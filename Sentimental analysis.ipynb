{
  "nbformat": 4,
  "nbformat_minor": 0,
  "metadata": {
    "colab": {
      "provenance": [],
      "authorship_tag": "ABX9TyOrcF0xCqnXHj8qTeG4Xeom",
      "include_colab_link": true
    },
    "kernelspec": {
      "name": "python3",
      "display_name": "Python 3"
    },
    "language_info": {
      "name": "python"
    }
  },
  "cells": [
    {
      "cell_type": "markdown",
      "metadata": {
        "id": "view-in-github",
        "colab_type": "text"
      },
      "source": [
        "<a href=\"https://colab.research.google.com/github/akashchaurasiya406/Projects-/blob/main/Sentimental%20analysis.ipynb\" target=\"_parent\"><img src=\"https://colab.research.google.com/assets/colab-badge.svg\" alt=\"Open In Colab\"/></a>"
      ]
    },
    {
      "cell_type": "code",
      "execution_count": null,
      "metadata": {
        "id": "XGvRQBIGvrYR"
      },
      "outputs": [],
      "source": [
        "!pip install -q google_play_scraper\n",
        "!pip install -q transformers\n",
        "import matplotlib.pyplot as plt\n",
        ""
      ]
    },
    {
      "cell_type": "code",
      "source": [
        "import pandas as pd\n",
        "import numpy as np\n",
        "from google_play_scraper import app,Sort,reviews_all\n",
        "\n",
        "\n"
      ],
      "metadata": {
        "id": "r_gtMhbOwGlb"
      },
      "execution_count": 4,
      "outputs": []
    },
    {
      "cell_type": "code",
      "source": [
        "rv_project = reviews_all('com.avira.passwordmanager',sleep_milliseconds=0,lang ='en',country ='US',sort = Sort.NEWEST)"
      ],
      "metadata": {
        "id": "tRxg55TwwzU-"
      },
      "execution_count": 5,
      "outputs": []
    },
    {
      "cell_type": "code",
      "source": [
        "rv_project"
      ],
      "metadata": {
        "id": "8nO3MGl-y9zb"
      },
      "execution_count": null,
      "outputs": []
    },
    {
      "cell_type": "code",
      "source": [
        "df = pd.json_normalize(rv_project)"
      ],
      "metadata": {
        "id": "TXvM-72kzEms"
      },
      "execution_count": 7,
      "outputs": []
    },
    {
      "cell_type": "code",
      "source": [
        "df.head()"
      ],
      "metadata": {
        "colab": {
          "base_uri": "https://localhost:8080/",
          "height": 617
        },
        "id": "Cdnb1_1y6FAI",
        "outputId": "e74b6f65-20be-4d2b-9ee7-7e9a183d6012"
      },
      "execution_count": 8,
      "outputs": [
        {
          "output_type": "execute_result",
          "data": {
            "text/plain": [
              "                               reviewId            userName  \\\n",
              "0  e9f3b561-463e-4daa-bbd7-dfedcac7403e  Dinesh Singh Rawat   \n",
              "1  aa942133-ad17-486a-84b1-a1e5dd7fd7e5       Shreedharan V   \n",
              "2  cdaf3f5b-43a3-478a-b3d8-21af7d7772d4    Giuseppe Gaviani   \n",
              "3  4122b9a0-45b2-46e8-a31b-93edc070ed37      shanker udayan   \n",
              "4  cb091ba2-cfaf-48b6-abd7-e08a8b983095            autoPING   \n",
              "\n",
              "                                           userImage  \\\n",
              "0  https://play-lh.googleusercontent.com/a/AAcHTt...   \n",
              "1  https://play-lh.googleusercontent.com/a/AAcHTt...   \n",
              "2  https://play-lh.googleusercontent.com/a/AAcHTt...   \n",
              "3  https://play-lh.googleusercontent.com/a/AAcHTt...   \n",
              "4  https://play-lh.googleusercontent.com/a-/AD_cM...   \n",
              "\n",
              "                                             content  score  thumbsUpCount  \\\n",
              "0             Please request don't west your time 🥺🙏      1              0   \n",
              "1  Apparently, the avira password manager does no...      1              0   \n",
              "2  Avira is an excellent, easy to use password ma...      5              0   \n",
              "3  They make you to subscribe premium with passwo...      1              0   \n",
              "4                                          Perfect 👍      5              1   \n",
              "\n",
              "  reviewCreatedVersion                  at  \\\n",
              "0                 None 2023-08-03 11:25:37   \n",
              "1                 2.10 2023-07-28 14:33:43   \n",
              "2                 2.10 2023-07-28 12:53:06   \n",
              "3                 2.10 2023-07-27 15:22:59   \n",
              "4                 2.10 2023-07-27 08:37:09   \n",
              "\n",
              "                                        replyContent           repliedAt  \\\n",
              "0                                               None                 NaT   \n",
              "1  Hello Shreedharan! In order to resolve the iss... 2023-07-31 17:15:15   \n",
              "2                                               None                 NaT   \n",
              "3  Hello shanker! We deeply apologize for the inc... 2023-07-31 17:17:36   \n",
              "4                                               None                 NaT   \n",
              "\n",
              "  appVersion  \n",
              "0       None  \n",
              "1       2.10  \n",
              "2       2.10  \n",
              "3       2.10  \n",
              "4       2.10  "
            ],
            "text/html": [
              "\n",
              "\n",
              "  <div id=\"df-2589f4a5-0db7-48f0-a4eb-10f8983e9390\">\n",
              "    <div class=\"colab-df-container\">\n",
              "      <div>\n",
              "<style scoped>\n",
              "    .dataframe tbody tr th:only-of-type {\n",
              "        vertical-align: middle;\n",
              "    }\n",
              "\n",
              "    .dataframe tbody tr th {\n",
              "        vertical-align: top;\n",
              "    }\n",
              "\n",
              "    .dataframe thead th {\n",
              "        text-align: right;\n",
              "    }\n",
              "</style>\n",
              "<table border=\"1\" class=\"dataframe\">\n",
              "  <thead>\n",
              "    <tr style=\"text-align: right;\">\n",
              "      <th></th>\n",
              "      <th>reviewId</th>\n",
              "      <th>userName</th>\n",
              "      <th>userImage</th>\n",
              "      <th>content</th>\n",
              "      <th>score</th>\n",
              "      <th>thumbsUpCount</th>\n",
              "      <th>reviewCreatedVersion</th>\n",
              "      <th>at</th>\n",
              "      <th>replyContent</th>\n",
              "      <th>repliedAt</th>\n",
              "      <th>appVersion</th>\n",
              "    </tr>\n",
              "  </thead>\n",
              "  <tbody>\n",
              "    <tr>\n",
              "      <th>0</th>\n",
              "      <td>e9f3b561-463e-4daa-bbd7-dfedcac7403e</td>\n",
              "      <td>Dinesh Singh Rawat</td>\n",
              "      <td>https://play-lh.googleusercontent.com/a/AAcHTt...</td>\n",
              "      <td>Please request don't west your time 🥺🙏</td>\n",
              "      <td>1</td>\n",
              "      <td>0</td>\n",
              "      <td>None</td>\n",
              "      <td>2023-08-03 11:25:37</td>\n",
              "      <td>None</td>\n",
              "      <td>NaT</td>\n",
              "      <td>None</td>\n",
              "    </tr>\n",
              "    <tr>\n",
              "      <th>1</th>\n",
              "      <td>aa942133-ad17-486a-84b1-a1e5dd7fd7e5</td>\n",
              "      <td>Shreedharan V</td>\n",
              "      <td>https://play-lh.googleusercontent.com/a/AAcHTt...</td>\n",
              "      <td>Apparently, the avira password manager does no...</td>\n",
              "      <td>1</td>\n",
              "      <td>0</td>\n",
              "      <td>2.10</td>\n",
              "      <td>2023-07-28 14:33:43</td>\n",
              "      <td>Hello Shreedharan! In order to resolve the iss...</td>\n",
              "      <td>2023-07-31 17:15:15</td>\n",
              "      <td>2.10</td>\n",
              "    </tr>\n",
              "    <tr>\n",
              "      <th>2</th>\n",
              "      <td>cdaf3f5b-43a3-478a-b3d8-21af7d7772d4</td>\n",
              "      <td>Giuseppe Gaviani</td>\n",
              "      <td>https://play-lh.googleusercontent.com/a/AAcHTt...</td>\n",
              "      <td>Avira is an excellent, easy to use password ma...</td>\n",
              "      <td>5</td>\n",
              "      <td>0</td>\n",
              "      <td>2.10</td>\n",
              "      <td>2023-07-28 12:53:06</td>\n",
              "      <td>None</td>\n",
              "      <td>NaT</td>\n",
              "      <td>2.10</td>\n",
              "    </tr>\n",
              "    <tr>\n",
              "      <th>3</th>\n",
              "      <td>4122b9a0-45b2-46e8-a31b-93edc070ed37</td>\n",
              "      <td>shanker udayan</td>\n",
              "      <td>https://play-lh.googleusercontent.com/a/AAcHTt...</td>\n",
              "      <td>They make you to subscribe premium with passwo...</td>\n",
              "      <td>1</td>\n",
              "      <td>0</td>\n",
              "      <td>2.10</td>\n",
              "      <td>2023-07-27 15:22:59</td>\n",
              "      <td>Hello shanker! We deeply apologize for the inc...</td>\n",
              "      <td>2023-07-31 17:17:36</td>\n",
              "      <td>2.10</td>\n",
              "    </tr>\n",
              "    <tr>\n",
              "      <th>4</th>\n",
              "      <td>cb091ba2-cfaf-48b6-abd7-e08a8b983095</td>\n",
              "      <td>autoPING</td>\n",
              "      <td>https://play-lh.googleusercontent.com/a-/AD_cM...</td>\n",
              "      <td>Perfect 👍</td>\n",
              "      <td>5</td>\n",
              "      <td>1</td>\n",
              "      <td>2.10</td>\n",
              "      <td>2023-07-27 08:37:09</td>\n",
              "      <td>None</td>\n",
              "      <td>NaT</td>\n",
              "      <td>2.10</td>\n",
              "    </tr>\n",
              "  </tbody>\n",
              "</table>\n",
              "</div>\n",
              "      <button class=\"colab-df-convert\" onclick=\"convertToInteractive('df-2589f4a5-0db7-48f0-a4eb-10f8983e9390')\"\n",
              "              title=\"Convert this dataframe to an interactive table.\"\n",
              "              style=\"display:none;\">\n",
              "\n",
              "  <svg xmlns=\"http://www.w3.org/2000/svg\" height=\"24px\"viewBox=\"0 0 24 24\"\n",
              "       width=\"24px\">\n",
              "    <path d=\"M0 0h24v24H0V0z\" fill=\"none\"/>\n",
              "    <path d=\"M18.56 5.44l.94 2.06.94-2.06 2.06-.94-2.06-.94-.94-2.06-.94 2.06-2.06.94zm-11 1L8.5 8.5l.94-2.06 2.06-.94-2.06-.94L8.5 2.5l-.94 2.06-2.06.94zm10 10l.94 2.06.94-2.06 2.06-.94-2.06-.94-.94-2.06-.94 2.06-2.06.94z\"/><path d=\"M17.41 7.96l-1.37-1.37c-.4-.4-.92-.59-1.43-.59-.52 0-1.04.2-1.43.59L10.3 9.45l-7.72 7.72c-.78.78-.78 2.05 0 2.83L4 21.41c.39.39.9.59 1.41.59.51 0 1.02-.2 1.41-.59l7.78-7.78 2.81-2.81c.8-.78.8-2.07 0-2.86zM5.41 20L4 18.59l7.72-7.72 1.47 1.35L5.41 20z\"/>\n",
              "  </svg>\n",
              "      </button>\n",
              "\n",
              "\n",
              "\n",
              "    <div id=\"df-6da679cd-40e2-455b-a573-676d0e053f90\">\n",
              "      <button class=\"colab-df-quickchart\" onclick=\"quickchart('df-6da679cd-40e2-455b-a573-676d0e053f90')\"\n",
              "              title=\"Suggest charts.\"\n",
              "              style=\"display:none;\">\n",
              "\n",
              "<svg xmlns=\"http://www.w3.org/2000/svg\" height=\"24px\"viewBox=\"0 0 24 24\"\n",
              "     width=\"24px\">\n",
              "    <g>\n",
              "        <path d=\"M19 3H5c-1.1 0-2 .9-2 2v14c0 1.1.9 2 2 2h14c1.1 0 2-.9 2-2V5c0-1.1-.9-2-2-2zM9 17H7v-7h2v7zm4 0h-2V7h2v10zm4 0h-2v-4h2v4z\"/>\n",
              "    </g>\n",
              "</svg>\n",
              "      </button>\n",
              "    </div>\n",
              "\n",
              "<style>\n",
              "  .colab-df-quickchart {\n",
              "    background-color: #E8F0FE;\n",
              "    border: none;\n",
              "    border-radius: 50%;\n",
              "    cursor: pointer;\n",
              "    display: none;\n",
              "    fill: #1967D2;\n",
              "    height: 32px;\n",
              "    padding: 0 0 0 0;\n",
              "    width: 32px;\n",
              "  }\n",
              "\n",
              "  .colab-df-quickchart:hover {\n",
              "    background-color: #E2EBFA;\n",
              "    box-shadow: 0px 1px 2px rgba(60, 64, 67, 0.3), 0px 1px 3px 1px rgba(60, 64, 67, 0.15);\n",
              "    fill: #174EA6;\n",
              "  }\n",
              "\n",
              "  [theme=dark] .colab-df-quickchart {\n",
              "    background-color: #3B4455;\n",
              "    fill: #D2E3FC;\n",
              "  }\n",
              "\n",
              "  [theme=dark] .colab-df-quickchart:hover {\n",
              "    background-color: #434B5C;\n",
              "    box-shadow: 0px 1px 3px 1px rgba(0, 0, 0, 0.15);\n",
              "    filter: drop-shadow(0px 1px 2px rgba(0, 0, 0, 0.3));\n",
              "    fill: #FFFFFF;\n",
              "  }\n",
              "</style>\n",
              "\n",
              "    <script>\n",
              "      async function quickchart(key) {\n",
              "        const containerElement = document.querySelector('#' + key);\n",
              "        const charts = await google.colab.kernel.invokeFunction(\n",
              "            'suggestCharts', [key], {});\n",
              "      }\n",
              "    </script>\n",
              "\n",
              "      <script>\n",
              "\n",
              "function displayQuickchartButton(domScope) {\n",
              "  let quickchartButtonEl =\n",
              "    domScope.querySelector('#df-6da679cd-40e2-455b-a573-676d0e053f90 button.colab-df-quickchart');\n",
              "  quickchartButtonEl.style.display =\n",
              "    google.colab.kernel.accessAllowed ? 'block' : 'none';\n",
              "}\n",
              "\n",
              "        displayQuickchartButton(document);\n",
              "      </script>\n",
              "      <style>\n",
              "    .colab-df-container {\n",
              "      display:flex;\n",
              "      flex-wrap:wrap;\n",
              "      gap: 12px;\n",
              "    }\n",
              "\n",
              "    .colab-df-convert {\n",
              "      background-color: #E8F0FE;\n",
              "      border: none;\n",
              "      border-radius: 50%;\n",
              "      cursor: pointer;\n",
              "      display: none;\n",
              "      fill: #1967D2;\n",
              "      height: 32px;\n",
              "      padding: 0 0 0 0;\n",
              "      width: 32px;\n",
              "    }\n",
              "\n",
              "    .colab-df-convert:hover {\n",
              "      background-color: #E2EBFA;\n",
              "      box-shadow: 0px 1px 2px rgba(60, 64, 67, 0.3), 0px 1px 3px 1px rgba(60, 64, 67, 0.15);\n",
              "      fill: #174EA6;\n",
              "    }\n",
              "\n",
              "    [theme=dark] .colab-df-convert {\n",
              "      background-color: #3B4455;\n",
              "      fill: #D2E3FC;\n",
              "    }\n",
              "\n",
              "    [theme=dark] .colab-df-convert:hover {\n",
              "      background-color: #434B5C;\n",
              "      box-shadow: 0px 1px 3px 1px rgba(0, 0, 0, 0.15);\n",
              "      filter: drop-shadow(0px 1px 2px rgba(0, 0, 0, 0.3));\n",
              "      fill: #FFFFFF;\n",
              "    }\n",
              "  </style>\n",
              "\n",
              "      <script>\n",
              "        const buttonEl =\n",
              "          document.querySelector('#df-2589f4a5-0db7-48f0-a4eb-10f8983e9390 button.colab-df-convert');\n",
              "        buttonEl.style.display =\n",
              "          google.colab.kernel.accessAllowed ? 'block' : 'none';\n",
              "\n",
              "        async function convertToInteractive(key) {\n",
              "          const element = document.querySelector('#df-2589f4a5-0db7-48f0-a4eb-10f8983e9390');\n",
              "          const dataTable =\n",
              "            await google.colab.kernel.invokeFunction('convertToInteractive',\n",
              "                                                     [key], {});\n",
              "          if (!dataTable) return;\n",
              "\n",
              "          const docLinkHtml = 'Like what you see? Visit the ' +\n",
              "            '<a target=\"_blank\" href=https://colab.research.google.com/notebooks/data_table.ipynb>data table notebook</a>'\n",
              "            + ' to learn more about interactive tables.';\n",
              "          element.innerHTML = '';\n",
              "          dataTable['output_type'] = 'display_data';\n",
              "          await google.colab.output.renderOutput(dataTable, element);\n",
              "          const docLink = document.createElement('div');\n",
              "          docLink.innerHTML = docLinkHtml;\n",
              "          element.appendChild(docLink);\n",
              "        }\n",
              "      </script>\n",
              "    </div>\n",
              "  </div>\n"
            ]
          },
          "metadata": {},
          "execution_count": 8
        }
      ]
    },
    {
      "cell_type": "code",
      "source": [
        "df['reviewCreatedVersion'].value_counts()"
      ],
      "metadata": {
        "id": "jFXCdfzl6fNj"
      },
      "execution_count": null,
      "outputs": []
    },
    {
      "cell_type": "code",
      "source": [
        "from transformers import pipeline\n",
        "sentiment_analysis = pipeline(\"sentiment-analysis\",model=\"siebert/sentiment-roberta-large-english\")\n",
        "\n"
      ],
      "metadata": {
        "id": "83MOUIrd7-s0"
      },
      "execution_count": null,
      "outputs": []
    },
    {
      "cell_type": "code",
      "source": [
        "df.dtypes"
      ],
      "metadata": {
        "id": "NeOXiMqB8s0c"
      },
      "execution_count": null,
      "outputs": []
    },
    {
      "cell_type": "code",
      "source": [
        "df['content']= df['content'].astype('str')"
      ],
      "metadata": {
        "id": "QACmVzCT9QXm"
      },
      "execution_count": 14,
      "outputs": []
    },
    {
      "cell_type": "code",
      "source": [
        "from sqlalchemy.engine import result\n",
        "df['result'] = df['content'].apply(lambda x:sentiment_analysis(x))"
      ],
      "metadata": {
        "id": "2rP_wXXi9hfQ"
      },
      "execution_count": 15,
      "outputs": []
    },
    {
      "cell_type": "code",
      "source": [
        "df.head()"
      ],
      "metadata": {
        "id": "HURBQLGJ90F_"
      },
      "execution_count": null,
      "outputs": []
    },
    {
      "cell_type": "code",
      "source": [
        "df['sentiment'] = df['result'].apply(lambda x:(x[0]['label']))\n",
        "df['score'] = df['result'].apply(lambda x: (x[0]['score']))"
      ],
      "metadata": {
        "id": "x_N4CHQLCGxl"
      },
      "execution_count": 19,
      "outputs": []
    },
    {
      "cell_type": "code",
      "source": [
        "df.head()"
      ],
      "metadata": {
        "id": "vmjLhuJeCizN"
      },
      "execution_count": null,
      "outputs": []
    },
    {
      "cell_type": "code",
      "source": [
        "\n",
        " sentiment_counts =df['sentiment'].value_counts(normalize =True)\n",
        " sentiment_counts\n"
      ],
      "metadata": {
        "id": "WKP907O-FL5X"
      },
      "execution_count": null,
      "outputs": []
    },
    {
      "cell_type": "code",
      "source": [
        "positive = sentiment_counts[0]\n",
        "negative = sentiment_counts[1]\n",
        "print(positive)\n",
        "print(negative)"
      ],
      "metadata": {
        "id": "40aUBRqPOGve"
      },
      "execution_count": null,
      "outputs": []
    },
    {
      "cell_type": "code",
      "source": [
        "sentiments = ['positive','negative']\n",
        "counts =[positive,negative]"
      ],
      "metadata": {
        "id": "EgBccAUqOpMp"
      },
      "execution_count": 30,
      "outputs": []
    },
    {
      "cell_type": "code",
      "source": [
        "plt.bar(sentiments,counts,color=['green','blue'])\n",
        "plt.xlabel('Sentiments')\n",
        "plt.ylabel('percentage of customers')\n",
        "plt.title('Sentiment Distribution')\n",
        "\n",
        "plt.show"
      ],
      "metadata": {
        "colab": {
          "base_uri": "https://localhost:8080/",
          "height": 489
        },
        "id": "Jl-6EtgqO9tx",
        "outputId": "73b25caa-1010-4813-fb4c-7b27fce6a5a1"
      },
      "execution_count": 34,
      "outputs": [
        {
          "output_type": "execute_result",
          "data": {
            "text/plain": [
              "<function matplotlib.pyplot.show(close=None, block=None)>"
            ]
          },
          "metadata": {},
          "execution_count": 34
        },
        {
          "output_type": "display_data",
          "data": {
            "text/plain": [
              "<Figure size 640x480 with 1 Axes>"
            ],
            "image/png": "[encoded data removed]"
          },
          "metadata": {}
        }
      ]
    }
  ]
}