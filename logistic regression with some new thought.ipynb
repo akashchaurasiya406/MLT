{
  "nbformat": 4,
  "nbformat_minor": 0,
  "metadata": {
    "colab": {
      "provenance": [],
      "authorship_tag": "ABX9TyNzL52xulVlp9MGCk8NNhqv",
      "include_colab_link": true
    },
    "kernelspec": {
      "name": "python3",
      "display_name": "Python 3"
    },
    "language_info": {
      "name": "python"
    }
  },
  "cells": [
    {
      "cell_type": "markdown",
      "metadata": {
        "id": "view-in-github",
        "colab_type": "text"
      },
      "source": [
        "<a href=\"https://colab.research.google.com/github/akashchaurasiya406/Projects-/blob/main/logistic%20regression%20with%20some%20new%20thought.ipynb\" target=\"_parent\"><img src=\"https://colab.research.google.com/assets/colab-badge.svg\" alt=\"Open In Colab\"/></a>"
      ]
    },
    {
      "cell_type": "code",
      "execution_count": 1,
      "metadata": {
        "id": "rRwr14HH6j0G"
      },
      "outputs": [],
      "source": [
        "import numpy as np\n",
        "import pandas as pd\n",
        "import matplotlib.pyplot as plt\n"
      ]
    },
    {
      "cell_type": "code",
      "source": [
        "train_data = pd.read_csv('/content/train_data.csv')\n",
        "test_data = pd.read_csv('/content/train_data.csv')"
      ],
      "metadata": {
        "id": "9nCf-Car6rdd"
      },
      "execution_count": 2,
      "outputs": []
    },
    {
      "cell_type": "code",
      "source": [
        "X_train = train_data[['Age','Sex','Fare','Pclass_1','Pclass_2','Pclass_3','Family_size','Title_1','Title_2','Title_3','Emb_1','Emb_2','Emb_3']]\n",
        "X_train= X_train.values.T\n",
        "Y_train = train_data['Survived']\n",
        "Y_train = Y_train.values.reshape(1,X_train.shape[1])"
      ],
      "metadata": {
        "id": "htvJO2Nd66_T"
      },
      "execution_count": 32,
      "outputs": []
    },
    {
      "cell_type": "code",
      "source": [
        "def sigmoid(x):\n",
        "  return 1/(1+np.exp(-x))"
      ],
      "metadata": {
        "id": "mUiiPJY_8MWB"
      },
      "execution_count": 6,
      "outputs": []
    },
    {
      "cell_type": "code",
      "source": [
        "def model(X_train,Y_train,iterations,Learning_rate):\n",
        "  m = X_train.shape[0]\n",
        "  n = X_train.shape[1]\n",
        "  W = np.zeros((X_train.shape[1],1))\n",
        "  B =0\n",
        "\n",
        "  cost_list =[]\n",
        "\n",
        "  for i in range(iterations):\n",
        "    Z = np.dot(W.T, X_train) +B\n",
        "    A = sigmoid(Z)\n",
        "\n",
        "    cost =(-1/m)*np.sum(Y_train*np.log(A)+(1-Y_train)*np.log(1-A))\n",
        "    dW = (-1/m)*np.dot((A-Y_train),X_train.T)\n",
        "    dB = (-1/m)*sum(A-Y_train)\n",
        "\n",
        "    W = W-Learning_rate*dW.T\n",
        "    B = B-Learning_rate*dB\n",
        "\n",
        "    cost_list.append(cost)\n",
        "\n",
        "    for i in range(iterations):\n",
        "      count =0;\n",
        "      if i%10 ==0 and count<10:\n",
        "        count =count +1\n",
        "        print(\"Cost of the \", i, \"th iterations is:\" ,cost)\n",
        "\n",
        "  return W,B, cost_list\n",
        "\n"
      ],
      "metadata": {
        "id": "nkfnM2e_9t2R"
      },
      "execution_count": 35,
      "outputs": []
    },
    {
      "cell_type": "code",
      "source": [
        "iterations =1000\n",
        "Learning_rate =0.002\n",
        "W,B,cost_list = model(X_train,Y_train,iterations,Learning_rate)"
      ],
      "metadata": {
        "colab": {
          "base_uri": "https://localhost:8080/",
          "height": 276
        },
        "id": "Qr68mGevC6qs",
        "outputId": "7e25a36e-3fc3-4f8d-f880-22289ab9d409"
      },
      "execution_count": 36,
      "outputs": [
        {
          "output_type": "error",
          "ename": "ValueError",
          "evalue": "ignored",
          "traceback": [
            "\u001b[0;31m---------------------------------------------------------------------------\u001b[0m",
            "\u001b[0;31mValueError\u001b[0m                                Traceback (most recent call last)",
            "\u001b[0;32m<ipython-input-36-46b049254197>\u001b[0m in \u001b[0;36m<cell line: 3>\u001b[0;34m()\u001b[0m\n\u001b[1;32m      1\u001b[0m \u001b[0miterations\u001b[0m \u001b[0;34m=\u001b[0m\u001b[0;36m1000\u001b[0m\u001b[0;34m\u001b[0m\u001b[0;34m\u001b[0m\u001b[0m\n\u001b[1;32m      2\u001b[0m \u001b[0mLearning_rate\u001b[0m \u001b[0;34m=\u001b[0m\u001b[0;36m0.002\u001b[0m\u001b[0;34m\u001b[0m\u001b[0;34m\u001b[0m\u001b[0m\n\u001b[0;32m----> 3\u001b[0;31m \u001b[0mW\u001b[0m\u001b[0;34m,\u001b[0m\u001b[0mB\u001b[0m\u001b[0;34m,\u001b[0m\u001b[0mcost_list\u001b[0m \u001b[0;34m=\u001b[0m \u001b[0mmodel\u001b[0m\u001b[0;34m(\u001b[0m\u001b[0mX_train\u001b[0m\u001b[0;34m,\u001b[0m\u001b[0mY_train\u001b[0m\u001b[0;34m,\u001b[0m\u001b[0miterations\u001b[0m\u001b[0;34m,\u001b[0m\u001b[0mLearning_rate\u001b[0m\u001b[0;34m)\u001b[0m\u001b[0;34m\u001b[0m\u001b[0;34m\u001b[0m\u001b[0m\n\u001b[0m",
            "\u001b[0;32m<ipython-input-35-c44f0729ffcf>\u001b[0m in \u001b[0;36mmodel\u001b[0;34m(X_train, Y_train, iterations, Learning_rate)\u001b[0m\n\u001b[1;32m      8\u001b[0m \u001b[0;34m\u001b[0m\u001b[0m\n\u001b[1;32m      9\u001b[0m   \u001b[0;32mfor\u001b[0m \u001b[0mi\u001b[0m \u001b[0;32min\u001b[0m \u001b[0mrange\u001b[0m\u001b[0;34m(\u001b[0m\u001b[0miterations\u001b[0m\u001b[0;34m)\u001b[0m\u001b[0;34m:\u001b[0m\u001b[0;34m\u001b[0m\u001b[0;34m\u001b[0m\u001b[0m\n\u001b[0;32m---> 10\u001b[0;31m     \u001b[0mZ\u001b[0m \u001b[0;34m=\u001b[0m \u001b[0mnp\u001b[0m\u001b[0;34m.\u001b[0m\u001b[0mdot\u001b[0m\u001b[0;34m(\u001b[0m\u001b[0mW\u001b[0m\u001b[0;34m.\u001b[0m\u001b[0mT\u001b[0m\u001b[0;34m,\u001b[0m \u001b[0mX_train\u001b[0m\u001b[0;34m)\u001b[0m \u001b[0;34m+\u001b[0m\u001b[0mB\u001b[0m\u001b[0;34m\u001b[0m\u001b[0;34m\u001b[0m\u001b[0m\n\u001b[0m\u001b[1;32m     11\u001b[0m     \u001b[0mA\u001b[0m \u001b[0;34m=\u001b[0m \u001b[0msigmoid\u001b[0m\u001b[0;34m(\u001b[0m\u001b[0mZ\u001b[0m\u001b[0;34m)\u001b[0m\u001b[0;34m\u001b[0m\u001b[0;34m\u001b[0m\u001b[0m\n\u001b[1;32m     12\u001b[0m \u001b[0;34m\u001b[0m\u001b[0m\n",
            "\u001b[0;32m/usr/local/lib/python3.10/dist-packages/numpy/core/overrides.py\u001b[0m in \u001b[0;36mdot\u001b[0;34m(*args, **kwargs)\u001b[0m\n",
            "\u001b[0;31mValueError\u001b[0m: shapes (1,792) and (13,792) not aligned: 792 (dim 1) != 13 (dim 0)"
          ]
        }
      ]
    },
    {
      "cell_type": "code",
      "source": [
        "plt.plot(cost,iterations,c='r',label ='cost function')\n",
        "plt.xlabel('iterations')\n",
        "plt.ylabel('cost')\n",
        "plt.title('cost v/s iterations')\n",
        "plt.legend()\n",
        "plt.show()\n"
      ],
      "metadata": {
        "id": "Y4VbCdltEcmu"
      },
      "execution_count": null,
      "outputs": []
    }
  ]
}