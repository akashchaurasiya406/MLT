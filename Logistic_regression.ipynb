{
  "nbformat": 4,
  "nbformat_minor": 0,
  "metadata": {
    "colab": {
      "provenance": [],
      "authorship_tag": "ABX9TyOfZxQrYb9Mn2Ye3yB3AwCY",
      "include_colab_link": true
    },
    "kernelspec": {
      "name": "python3",
      "display_name": "Python 3"
    },
    "language_info": {
      "name": "python"
    }
  },
  "cells": [
    {
      "cell_type": "markdown",
      "metadata": {
        "id": "view-in-github",
        "colab_type": "text"
      },
      "source": [
        "<a href=\"https://colab.research.google.com/github/akashchaurasiya406/Projects-/blob/main/Logistic_regression.ipynb\" target=\"_parent\"><img src=\"https://colab.research.google.com/assets/colab-badge.svg\" alt=\"Open In Colab\"/></a>"
      ]
    },
    {
      "cell_type": "code",
      "execution_count": 3,
      "metadata": {
        "id": "qMaehzRx-WXK"
      },
      "outputs": [],
      "source": [
        "import numpy as np\n",
        "import pandas as pd\n",
        "import matplotlib.pyplot as plt\n"
      ]
    },
    {
      "cell_type": "code",
      "source": [
        "train_data =pd.read_csv('/content/train_data.csv')\n",
        "test_data = pd.read_csv('/content/test_data.csv')"
      ],
      "metadata": {
        "id": "tSqWqxE3-k2R"
      },
      "execution_count": 4,
      "outputs": []
    },
    {
      "cell_type": "code",
      "source": [
        "X_train = train_data[['Age','Sex','Fare','Pclass_1','Pclass_2','Pclass_3','Family_size','Title_1','Title_2','Title_3','Title_4','Emb_1','Emb_2','Emb_3']]\n",
        "Y_train =train_data['Survived']\n",
        "print(X_train.head())"
      ],
      "metadata": {
        "colab": {
          "base_uri": "https://localhost:8080/"
        },
        "id": "Q8EKXq-NA-HB",
        "outputId": "14d4259d-262a-4067-e97c-7ade87bb4130"
      },
      "execution_count": 25,
      "outputs": [
        {
          "output_type": "stream",
          "name": "stdout",
          "text": [
            "      Age  Sex      Fare  Pclass_1  Pclass_2  Pclass_3  Family_size  Title_1  \\\n",
            "0  0.2750    1  0.014151         0         0         1          0.1        1   \n",
            "1  0.4750    0  0.139136         1         0         0          0.1        1   \n",
            "2  0.3250    0  0.015469         0         0         1          0.0        0   \n",
            "3  0.4375    0  0.103644         1         0         0          0.1        1   \n",
            "4  0.4375    1  0.015713         0         0         1          0.0        1   \n",
            "\n",
            "   Title_2  Title_3  Title_4  Emb_1  Emb_2  Emb_3  \n",
            "0        0        0        0      0      0      1  \n",
            "1        0        0        0      1      0      0  \n",
            "2        0        0        1      0      0      1  \n",
            "3        0        0        0      0      0      1  \n",
            "4        0        0        0      0      0      1  \n"
          ]
        }
      ]
    },
    {
      "cell_type": "code",
      "source": [
        "X_test = test_data[['Age','Sex','Fare','Pclass_1','Pclass_2','Pclass_3','Family_size','Title_1','Title_2','Title_3','Title_4','Emb_1','Emb_2','Emb_3']]\n",
        "Y_test =test_data['Survived']"
      ],
      "metadata": {
        "id": "I_ziymaDCrQp"
      },
      "execution_count": 18,
      "outputs": []
    },
    {
      "cell_type": "code",
      "source": [
        "X_train =X_train.values\n",
        "Y_train =Y_train.values\n",
        "X_test = X_test.values\n",
        "Y_test = Y_test.values"
      ],
      "metadata": {
        "id": "U1b2Rj2RFxLk"
      },
      "execution_count": 26,
      "outputs": []
    },
    {
      "cell_type": "code",
      "source": [
        "X_train = X_train.T\n",
        "Y_train = Y_train.reshape(1,X_train.shape[1])\n",
        "\n",
        "X_test =X_test.T\n",
        "Y_test =Y_test.reshape(1,X_test.shape[1])\n"
      ],
      "metadata": {
        "id": "RlbIaAuam1LA"
      },
      "execution_count": 27,
      "outputs": []
    },
    {
      "cell_type": "code",
      "source": [
        "print(\"Shape of X_train:\",X_train.shape)\n",
        "print(\"Shape of Y_train:\",Y_train.shape)\n",
        "print(\"Shape of X_test:\",X_test.shape)\n",
        "print(\"Shape of Y_test:\",Y_test.shape)\n"
      ],
      "metadata": {
        "colab": {
          "base_uri": "https://localhost:8080/"
        },
        "id": "gmXzUMCRoAre",
        "outputId": "9ed2d5ff-dfa9-46b9-be1c-2ad741e2ae7c"
      },
      "execution_count": 30,
      "outputs": [
        {
          "output_type": "stream",
          "name": "stdout",
          "text": [
            "Shape of X_train: (14, 792)\n",
            "Shape of Y_train: (1, 792)\n",
            "Shape of X_test: (14, 100)\n",
            "Shape of Y_test: (1, 100)\n"
          ]
        }
      ]
    },
    {
      "cell_type": "code",
      "source": [
        "def sigmoid(x):\n",
        "  return 1/(1+np.exp(-x))"
      ],
      "metadata": {
        "id": "QfGkPqIWqeq7"
      },
      "execution_count": 32,
      "outputs": []
    },
    {
      "cell_type": "code",
      "source": [
        "def model(X, Y, learning_rate, iterations):\n",
        "    m = X.shape[1]\n",
        "    n = X.shape[0]\n",
        "    W = np.zeros((n, 1))\n",
        "    B = 0\n",
        "    cost_list = []\n",
        "\n",
        "    for i in range(iterations):\n",
        "        Z = np.dot(W.T, X) + B\n",
        "        A = sigmoid(Z)\n",
        "\n",
        "        cost = -(1/m) * np.sum(Y*np.log(A) + (1-Y)*np.log(1-A))\n",
        "        dW = (1/m) * np.dot(A-Y, X.T)\n",
        "        dB = (1/m) * np.sum(A-Y)\n",
        "\n",
        "        W = W - learning_rate * dW.T\n",
        "        B = B - learning_rate * dB\n",
        "\n",
        "        cost_list.append(cost)\n",
        "\n",
        "        if i % (iterations // 10) == 0:\n",
        "            print(\"Cost after\", i, \"iterations is:\", cost)\n",
        "\n",
        "    return W, B, cost_list\n",
        "\n",
        "\n"
      ],
      "metadata": {
        "id": "W8tJP_p-qZq9"
      },
      "execution_count": 54,
      "outputs": []
    },
    {
      "cell_type": "code",
      "source": [
        "iterations = 10000\n",
        "learning_rate = 0.001\n",
        "W,B,cost_list =model(X_train,Y_train,learning_rate,iterations)"
      ],
      "metadata": {
        "id": "z9rWOL3f4w4c",
        "outputId": "58f4166e-d247-4275-c9cc-d96862752bb8",
        "colab": {
          "base_uri": "https://localhost:8080/"
        }
      },
      "execution_count": 55,
      "outputs": [
        {
          "output_type": "stream",
          "name": "stdout",
          "text": [
            "Cost after 0 iterations is: 0.6931471805599452\n",
            "Cost after 1000 iterations is: 0.6244432722630885\n",
            "Cost after 2000 iterations is: 0.5960912298015468\n",
            "Cost after 3000 iterations is: 0.5779353093775446\n",
            "Cost after 4000 iterations is: 0.5637521766039814\n",
            "Cost after 5000 iterations is: 0.5519290637882864\n",
            "Cost after 6000 iterations is: 0.5418596447150182\n",
            "Cost after 7000 iterations is: 0.5332029034006912\n",
            "Cost after 8000 iterations is: 0.5257144002558769\n",
            "Cost after 9000 iterations is: 0.5192017187080661\n"
          ]
        }
      ]
    },
    {
      "cell_type": "code",
      "source": [
        "plt.plot(np.arange(iterations),cost_list)\n",
        "plt.show()"
      ],
      "metadata": {
        "id": "-cx4LrSR5cnf",
        "outputId": "181c3fbd-1963-412f-db2f-4ae07d0451a3",
        "colab": {
          "base_uri": "https://localhost:8080/",
          "height": 431
        }
      },
      "execution_count": 57,
      "outputs": [
        {
          "output_type": "display_data",
          "data": {
            "text/plain": [
              "<Figure size 640x480 with 1 Axes>"
            ],
            "image/png": "[encoded data removed]"
          },
          "metadata": {}
        }
      ]
    },
    {
      "cell_type": "code",
      "source": [
        "iterations = 10000\n",
        "learning_rate = 0.001\n",
        "W,B,cost_list =model(X_test,Y_test,learning_rate,iterations)"
      ],
      "metadata": {
        "id": "MeRUS6X05xzn",
        "outputId": "cc395810-72f9-4c5b-8ccb-f9e3c9351305",
        "colab": {
          "base_uri": "https://localhost:8080/"
        }
      },
      "execution_count": 58,
      "outputs": [
        {
          "output_type": "stream",
          "name": "stdout",
          "text": [
            "Cost after 0 iterations is: 0.6931471805599453\n",
            "Cost after 1000 iterations is: 0.6128759075024163\n",
            "Cost after 2000 iterations is: 0.5821362810486653\n",
            "Cost after 3000 iterations is: 0.5630114814998656\n",
            "Cost after 4000 iterations is: 0.5479694834891633\n",
            "Cost after 5000 iterations is: 0.535177684524509\n",
            "Cost after 6000 iterations is: 0.5240203944064599\n",
            "Cost after 7000 iterations is: 0.5141850745232294\n",
            "Cost after 8000 iterations is: 0.505456598989583\n",
            "Cost after 9000 iterations is: 0.49766581592191034\n"
          ]
        }
      ]
    },
    {
      "cell_type": "code",
      "source": [
        "plt.plot(np.arange(iterations),cost_list)\n",
        "plt.show()"
      ],
      "metadata": {
        "id": "SM3hycRZ6BEt",
        "outputId": "0b0ca0c6-e6b4-4f6e-ccea-00e684873c95",
        "colab": {
          "base_uri": "https://localhost:8080/",
          "height": 430
        }
      },
      "execution_count": 59,
      "outputs": [
        {
          "output_type": "display_data",
          "data": {
            "text/plain": [
              "<Figure size 640x480 with 1 Axes>"
            ],
            "image/png": "[encoded data removed]"
          },
          "metadata": {}
        }
      ]
    },
    {
      "cell_type": "code",
      "source": [],
      "metadata": {
        "id": "m2i51hHJ6FKh"
      },
      "execution_count": null,
      "outputs": []
    }
  ]
}